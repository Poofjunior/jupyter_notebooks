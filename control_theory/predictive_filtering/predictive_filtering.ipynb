{
 "cells": [
  {
   "cell_type": "code",
   "execution_count": 2,
   "metadata": {},
   "outputs": [],
   "source": [
    "# Environment Setup\n",
    "import sympy as sym\n",
    "import numpy as np\n",
    "import matplotlib.pyplot as plt\n",
    "sym.init_printing(use_latex='mathjax')\n",
    "from IPython.display import display, Markdown, Math"
   ]
  },
  {
   "cell_type": "markdown",
   "metadata": {},
   "source": [
    "# Predictive Filtering\n",
    "\n",
    "Lots of systems behave according to first order."
   ]
  },
  {
   "cell_type": "code",
   "execution_count": 50,
   "metadata": {},
   "outputs": [
    {
     "data": {
      "text/latex": [
       "$\\displaystyle 1 - e^{- t}$"
      ],
      "text/plain": [
       "     -t\n",
       "1 - ℯ  "
      ]
     },
     "metadata": {},
     "output_type": "display_data"
    },
    {
     "data": {
      "image/png": "[encoded data removed]",
      "text/plain": [
       "<Figure size 432x288 with 1 Axes>"
      ]
     },
     "metadata": {
      "needs_background": "light"
     },
     "output_type": "display_data"
    }
   ],
   "source": [
    "K, T = sym.symbols('K, T', real=True)\n",
    "s = sym.symbols('s')\n",
    "td, t = sym.symbols('t_d, t', real=True, positive = True)\n",
    "\n",
    "# Laplace Transform of Unit Step\n",
    "H = 1/s \n",
    "\n",
    "# Laplace Transform of a First-Order System\n",
    "F = K/(T*s + 1)\n",
    "\n",
    "\n",
    "# Plot the Unit Step Response.\n",
    "# Sympy can't find Heavyside function without some help when we Lambdify a function.\n",
    "modules = [{'Heaviside': lambda x: np.heaviside(x, 1)}, 'numpy']\n",
    "f_unit_step_response = sym.inverse_laplace_transform(F*H, s, t).subs({T: 1, K: 1, td: 1})\n",
    "display(f_unit_step_response)\n",
    "lambda_f = sym.lambdify(t, f_unit_step_response, modules=modules)\n",
    "\n",
    "\n",
    "time_series = np.arange(0, 5, 0.1)\n",
    "f_series = np.array([lambda_f(t) for t in time_series])\n",
    "\n",
    "\n",
    "plt.plot(time_series, f_series)\n",
    "plt.show()"
   ]
  },
  {
   "cell_type": "markdown",
   "metadata": {},
   "source": [
    "If we know the unit step response of the system, we actually know quite a bit about the system.\n",
    "\n",
    "In fact, given any moment in this curve, we can use the time constant to predict where the curve will settle."
   ]
  },
  {
   "cell_type": "code",
   "execution_count": 54,
   "metadata": {},
   "outputs": [
    {
     "data": {
      "image/png": "[encoded data removed]",
      "text/plain": [
       "<Figure size 432x288 with 1 Axes>"
      ]
     },
     "metadata": {
      "needs_background": "light"
     },
     "output_type": "display_data"
    }
   ],
   "source": [
    "givens = \\\n",
    "{t: 2}\n",
    "\n",
    "# Take the derivative with respect to t. Evaluate at t=2\n",
    "slope = sym.diff(f_unit_step_response, t).subs(givens)\n",
    "point_fn = f_unit_step_response.subs(givens)\n",
    "\n",
    "# Point-Slope Formula to get a line equation\n",
    "l = slope * (t - givens[t]) + point_fn\n",
    "\n",
    "# Get the limit of the original function to plot the DiffyQ steady state value.\n",
    "steady_state_val = sym.limit(f_unit_step_response, t, sym.oo)\n",
    "\n",
    "# Get the point at which the linearization intersects the steady state time.\n",
    "# Intersection time is one time constant away from the point we linearized around.\n",
    "tau = 1 # Unfortunately, we have to look at unit step response to get this value.\n",
    "intersection_time = givens[t] + tau\n",
    "\n",
    "# Plotting\n",
    "lambda_l = sym.lambdify(t, l, modules=modules)\n",
    "l_series = np.array([lambda_l(t) for t in time_series])\n",
    "ss_series = np.array([steady_state_val for t in time_series])\n",
    "\n",
    "plt.plot(time_series, f_series)\n",
    "plt.plot(time_series, l_series)\n",
    "plt.plot(time_series, ss_series)\n",
    "\n",
    "\n",
    "plt.plot([intersection_time], [lambda_l(intersection_time)], marker='o')\n",
    "plt.show()"
   ]
  },
  {
   "cell_type": "markdown",
   "metadata": {},
   "source": [
    "The result above is pretty powerful. Given *just* the system's time constant, we can use a small time window to approximate the slope and then get the tangent line to extrapolate what value the system will settle at."
   ]
  },
  {
   "cell_type": "markdown",
   "metadata": {},
   "source": [
    "# References\n",
    "\n",
    "1. https://www.youtube.com/watch?v=1mvZHN5ew5M&t=3s&ab_channel=nerdkits"
   ]
  },
  {
   "cell_type": "code",
   "execution_count": null,
   "metadata": {},
   "outputs": [],
   "source": []
  }
 ],
 "metadata": {
  "kernelspec": {
   "display_name": "Python 3",
   "language": "python",
   "name": "python3"
  },
  "language_info": {
   "codemirror_mode": {
    "name": "ipython",
    "version": 3
   },
   "file_extension": ".py",
   "mimetype": "text/x-python",
   "name": "python",
   "nbconvert_exporter": "python",
   "pygments_lexer": "ipython3",
   "version": "3.6.12"
  }
 },
 "nbformat": 4,
 "nbformat_minor": 4
}
