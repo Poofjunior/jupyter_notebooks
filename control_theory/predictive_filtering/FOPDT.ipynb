{
 "cells": [
  {
   "cell_type": "code",
   "execution_count": 1,
   "metadata": {},
   "outputs": [],
   "source": [
    "# Environment Setup\n",
    "import sympy as sym\n",
    "import numpy as np\n",
    "import matplotlib.pyplot as plt\n",
    "sym.init_printing(use_latex='mathjax')\n",
    "from IPython.display import display, Markdown, Math"
   ]
  },
  {
   "cell_type": "markdown",
   "metadata": {},
   "source": [
    "# First-Order Plus Dead Time System\n",
    "\n",
    "Some systems behave like a first order system after some initial delay. We can model those as a first-order-plus-dead-time system."
   ]
  },
  {
   "cell_type": "code",
   "execution_count": 4,
   "metadata": {},
   "outputs": [
    {
     "data": {
      "text/latex": [
       "$\\displaystyle \\left(e^{t} - e\\right) e^{- t} \\theta\\left(t - 1\\right)$"
      ],
      "text/plain": [
       "⎛ t    ⎞  -t         \n",
       "⎝ℯ  - ℯ⎠⋅ℯ  ⋅θ(t - 1)"
      ]
     },
     "metadata": {},
     "output_type": "display_data"
    },
    {
     "data": {
      "image/png": "[encoded data removed]",
      "text/plain": [
       "<Figure size 432x288 with 1 Axes>"
      ]
     },
     "metadata": {
      "needs_background": "light"
     },
     "output_type": "display_data"
    }
   ],
   "source": [
    "K, T = sym.symbols('K, T', real=True)\n",
    "s = sym.symbols('s')\n",
    "td, t = sym.symbols('t_d, t', real=True, positive = True)\n",
    "\n",
    "# Laplace Transform of Unit Step\n",
    "H = 1/s \n",
    "\n",
    "# Laplace Transform of a FOPDT System.\n",
    "F = K/(T*s + 1) * sym.exp(-s*td)  \n",
    "\n",
    "# Plot the Unit Step Response.\n",
    "# Sympy can't find Heavyside function without some help when we Lambdify a function.\n",
    "modules = [{'Heaviside': lambda x: np.heaviside(x, 1)}, 'numpy']\n",
    "f_unit_step_response = sym.inverse_laplace_transform(F*H, s, t).subs({T: 1, K: 1, td: 1})\n",
    "display(f_unit_step_response)\n",
    "lambda_f = sym.lambdify(t, f_unit_step_response, modules=modules)\n",
    "\n",
    "\n",
    "time_series = np.arange(0, 10, 0.1)\n",
    "f_series = np.array([lambda_f(t) for t in time_series])\n",
    "\n",
    "\n",
    "plt.plot(time_series, f_series)\n",
    "plt.show()"
   ]
  },
  {
   "cell_type": "code",
   "execution_count": null,
   "metadata": {},
   "outputs": [],
   "source": []
  }
 ],
 "metadata": {
  "kernelspec": {
   "display_name": "Python 3",
   "language": "python",
   "name": "python3"
  },
  "language_info": {
   "codemirror_mode": {
    "name": "ipython",
    "version": 3
   },
   "file_extension": ".py",
   "mimetype": "text/x-python",
   "name": "python",
   "nbconvert_exporter": "python",
   "pygments_lexer": "ipython3",
   "version": "3.6.12"
  }
 },
 "nbformat": 4,
 "nbformat_minor": 4
}
