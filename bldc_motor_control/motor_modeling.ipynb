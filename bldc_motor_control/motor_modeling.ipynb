{
 "cells": [
  {
   "cell_type": "code",
   "execution_count": 2,
   "metadata": {},
   "outputs": [],
   "source": [
    "# Environment Setup\n",
    "import sympy as sym\n",
    "import numpy as np\n",
    "import matplotlib.pyplot as plt\n",
    "sym.init_printing(use_latex='mathjax')\n",
    "from IPython.display import display, Markdown, Math"
   ]
  },
  {
   "cell_type": "markdown",
   "metadata": {},
   "source": [
    "# Motor Modeling\n",
    "\n",
    "Torque is controlled via current, but when we set the PWM values on the motor coils we are actually dictating the voltage. To control current with voltage, we need a motor model of how voltage (the parameter we can actually control) affects current (the parameter we want to control).\n",
    "\n",
    "\n",
    "## Constants:\n",
    "\n",
    "$J_m$: $\\text{kg} \\text{m}^2$ Rotational moment of inertia\n",
    "\n",
    "$B_m$: Friction coefficient. (Scalar, dimensionless)\n",
    "\n",
    "$L_m$: $\\text{Henrys}$ inductance of the motor coils\n",
    "\n",
    "$R_m$: $\\text{Ohms}$ resistance of the motor coils\n",
    "\n",
    "$K_v$: $\\frac{\\text{RPM}}{\\text{V}}$ motor constant that shows up more commonly.\n",
    "\n",
    "$K_m$: $\\frac{60}{2 \\pi K_v}$ motor torque constant\n",
    "\n",
    "$G_{iv} = \\frac{\\text{output}}{\\text{input}} = \\frac{I(s)}{V(s)}$"
   ]
  },
  {
   "cell_type": "code",
   "execution_count": 104,
   "metadata": {},
   "outputs": [
    {
     "data": {
      "text/latex": [
       "$\\displaystyle \\frac{B_{m} + J_{m} s}{B_{m} R_{m} + J_{m} L_{m} s^{2} + K_{m}^{2} + s \\left(B_{m} L_{m} + J_{m} R_{m}\\right)}$"
      ],
      "text/plain": [
       "                Bₘ + Jₘ⋅s                 \n",
       "──────────────────────────────────────────\n",
       "               2     2                    \n",
       "Bₘ⋅Rₘ + Jₘ⋅Lₘ⋅s  + Kₘ  + s⋅(Bₘ⋅Lₘ + Jₘ⋅Rₘ)"
      ]
     },
     "metadata": {},
     "output_type": "display_data"
    }
   ],
   "source": [
    "# Create the Voltage-to-Current Transfer Function in Sympy\n",
    "s = sym.symbols('s')\n",
    "t = sym.symbols('t', real=True)\n",
    "Jm, Bm, Lm, Rm, Km, Vm = sym.symbols('J_m, B_m, L_m, R_m, K_m, V_m', real=True)\n",
    "kv = 25 # rpm  per volt\n",
    "\n",
    "givens = \\\n",
    "{\n",
    "    Jm: 0.01, # rotational moment of inertia. Random guess, but just influences time until steady-state.\n",
    "    Bm: 0.005, # Friction Coefficient. 3 decimal places is a reasonable value for ball bearings.\n",
    "    Lm: 0.001,\n",
    "    Rm: 15,\n",
    "    Km: 60./(2 * sym.pi * kv),\n",
    "}\n",
    "\n",
    "# L(Output)/L(Input) = I(s)/V(s)\n",
    "Tf = (s * Jm + Bm)/(s**2 * Jm*Lm + s*(Jm*Rm + Bm*Lm) + (Bm*Rm + Km**2))\n",
    "display(Tf)\n",
    "\n",
    "num,den = Tf.subs(givens).as_numer_denom()\n",
    "num_coeffs = sym.Poly(num.subs(givens).evalf(), s).coeffs()\n",
    "den_coeffs = sym.Poly(den.subs(givens).evalf(), s).coeffs()\n",
    "\n",
    "# Convert out of Sympy Float to normal float.\n",
    "num_coeffs = [float(c) for c in num_coeffs]\n",
    "den_coeffs = [float(c) for c in den_coeffs]"
   ]
  },
  {
   "cell_type": "code",
   "execution_count": 108,
   "metadata": {},
   "outputs": [
    {
     "data": {
      "image/png": "[encoded data removed]",
      "text/plain": [
       "<Figure size 864x216 with 2 Axes>"
      ]
     },
     "metadata": {
      "needs_background": "light"
     },
     "output_type": "display_data"
    }
   ],
   "source": [
    "# Numerically Simulate the Transfer Function\n",
    "from scipy.signal import lsim\n",
    "step_voltage = 24\n",
    "t_short = np.linspace(0, 0.01,100, endpoint=False) # 0.0, 0.01, ...\n",
    "t_long = np.linspace(0, 10, 1000, endpoint=False)\n",
    "sim_times = [t_short, t_long]\n",
    "\n",
    "fig, axes = plt.subplots(nrows=1, ncols=2, figsize=(12, 3))\n",
    "titles = [rf\"$i(t)$ for ${step_voltage}$v step input, (Short Time)\",\n",
    "          rf\"$i(t)$ for ${step_voltage}$v step input, (Long Time)\"]\n",
    "\n",
    "for ax, t_, title in zip(axes, sim_times, titles):\n",
    "    u_ = np.ones_like(t_) * step_voltage # step input.\n",
    "    t_, y_, x_ = lsim((num_coeffs, den_coeffs), u_, t_)\n",
    "    ax.plot(t_, y_, label=rf\"$i(t)$\")\n",
    "    ax.set_title(title)\n",
    "    ax.set_xlabel(r\"time $(t)$\")\n",
    "    ax.set_ylabel(r\"current $(A)$\")\n",
    "    ax.legend()\n",
    "fig.tight_layout()"
   ]
  },
  {
   "cell_type": "markdown",
   "metadata": {},
   "source": [
    "Do the above graphs make sense?\n",
    "\n",
    "Yes! Starting from an idle motor (rpm = 0), the transient behavior is for current to follow the voltage immediately. But, once the motor starts spinning, it starts generating a Back-EMF voltage that opposes the input voltage. This Back-EMF increases until we hit equilibrium. \n",
    "\n",
    "Let's make a few observations:\n",
    "\n",
    "1. Increasing the voltage (to 18v or 24v) produces current values that make more sense with [this gimbal motor](https://indonesian.alibaba.com/product-detail/gbm5208h-200t-dc-brushless-gimbal-motor-1600101101528.html) with similar specs to our model.\n",
    "1. A smaller moment of inertia means the motor will spin up faster.\n",
    "1. A smaller internal resistance means the input current will be higher\n",
    "1. A smaller amount of friction means that the steady-state current would asymptotically approach zero since the back-EMF and input voltage would more closely match each other.\n",
    "\n",
    "---"
   ]
  },
  {
   "cell_type": "markdown",
   "metadata": {},
   "source": [
    "## State Space Representation\n",
    "\n",
    "\n",
    "In state space, our differential equation takes on the form:\n",
    "$$\n",
    "f(\\vec{x}, \\vec{u}) = \\vec{x}'\n",
    "$$\n",
    "\n",
    "Here let's let our state and inputs be:\n",
    "\\begin{align}\n",
    "\\vec{x} = \n",
    "\\begin{bmatrix}\n",
    "\\theta \\\\\n",
    "\\theta' \\\\\n",
    "i \\\\\n",
    "\\end{bmatrix}\n",
    "&&\n",
    "\\vec{u} = \\begin{bmatrix} V_m \\end{bmatrix}\n",
    "\\end{align}\n",
    "\n",
    "Using our equations from [subms](http://subms.com/tutorials/motor_modeling), we get:\n",
    "\n",
    "$$\n",
    "f(\\vec{x}, \\vec{u}) = \n",
    "\\begin{bmatrix}\n",
    "\\theta' \\\\\n",
    "\\frac{K_m}{J_m}i - \\frac{B_m}{J_m}\\theta'\\\\\n",
    "-\\frac{R_m}{L_m}i - \\frac{K_m}{L_m}\\theta' + \\frac{1}{L_m}V_m\n",
    "\\end{bmatrix}\n",
    "$$\n",
    "\n",
    "The above system is already linear, which is nice since we're not approximating when we put it into $A\\vec{x} + B\\vec{u}$ form. In that form, we get:\n",
    "\n",
    "$$\n",
    "\\begin{bmatrix}\n",
    "\\theta' \\\\\n",
    "\\theta'' \\\\\n",
    "i'\n",
    "\\end{bmatrix} =\n",
    "\\begin{bmatrix}\n",
    "0 & 1 & 0 \\\\\n",
    "0 & -\\frac{B_m}{J_m} & \\frac{K_m}{J_m}\\\\\n",
    "0 & -\\frac{K_m}{L_m} & -\\frac{R_m}{L_m}\n",
    "\\end{bmatrix}\n",
    "\\begin{bmatrix}\n",
    "\\theta \\\\\n",
    "\\theta' \\\\\n",
    "i\n",
    "\\end{bmatrix}\n",
    "+\n",
    "\\begin{bmatrix}\n",
    "0 \\\\\n",
    "0\\\\\n",
    "\\frac{1}{L_m}\n",
    "\\end{bmatrix}\n",
    "\\begin{bmatrix}\n",
    "V_m\n",
    "\\end{bmatrix}\n",
    "$$"
   ]
  },
  {
   "cell_type": "code",
   "execution_count": 123,
   "metadata": {},
   "outputs": [],
   "source": [
    "# Prof Burden's Numerical Simulation fn\n",
    "# from: https://colab.research.google.com/github/sburden/547-21wi/blob/master/547_lec.ipynb#scrollTo=x-AAJZ-RNxS-\n",
    "def numerical_simulation(f,t,x,t0=0.,dt=1e-4,ut=None,ux=None,utx=None,return_u=False):\n",
    "  \"\"\"\n",
    "  simulate x' = f(x,u) \n",
    "\n",
    "  input:\n",
    "    f : R x X x U --> X - vector field\n",
    "      X - state space (must be vector space)\n",
    "      U - control input set\n",
    "    t - scalar - final simulation time\n",
    "    x - initial condition; element of X\n",
    "\n",
    "    (optional:)\n",
    "    t0 - scalar - initial simulation time\n",
    "    dt - scalar - stepsize parameter\n",
    "    return_u - bool - whether to return u_\n",
    "\n",
    "    (only one of:)\n",
    "    ut : R --> U\n",
    "    ux : X --> U\n",
    "    utx : R x X --> U\n",
    "\n",
    "  output:\n",
    "    t_ - N array - time trajectory\n",
    "    x_ - N x X array - state trajectory\n",
    "    (if return_u:)\n",
    "    u_ - N x U array - state trajectory\n",
    "  \"\"\"\n",
    "  t_,x_,u_ = [t0],[x],[]\n",
    "  \n",
    "  inputs = sum([1 if u is not None else 0 for u in [ut,ux,utx]])\n",
    "  assert inputs <= 1, \"more than one of ut,ux,utx defined\"\n",
    "\n",
    "  if inputs == 0:\n",
    "    assert not return_u, \"no input supplied\"\n",
    "  else:\n",
    "    if ut is not None:\n",
    "      u = lambda t,x : ut(t)\n",
    "    elif ux is not None:\n",
    "      u = lambda t,x : ux(x)\n",
    "    elif utx is not None:\n",
    "      u = lambda t,x : utx(t,x)\n",
    "\n",
    "  while t_[-1]+dt < t:\n",
    "    if inputs == 0:\n",
    "      _t,_x = t_[-1],x_[-1]\n",
    "      dx = f(t_[-1],x_[-1]) * dt\n",
    "    else:\n",
    "      _t,_x,_u = t_[-1],x_[-1],u(t_[-1],x_[-1])\n",
    "      dx = f(_t,_x,_u) * dt\n",
    "      u_.append( _u )\n",
    "\n",
    "    x_.append( _x + dx )\n",
    "    t_.append( _t + dt )\n",
    "\n",
    "  if return_u:\n",
    "    return np.asarray(t_),np.asarray(x_),np.asarray(u_)\n",
    "  else:\n",
    "    return np.asarray(t_),np.asarray(x_)"
   ]
  },
  {
   "cell_type": "code",
   "execution_count": 124,
   "metadata": {},
   "outputs": [
    {
     "data": {
      "image/png": "[encoded data removed]",
      "text/plain": [
       "<Figure size 432x288 with 1 Axes>"
      ]
     },
     "metadata": {
      "needs_background": "light"
     },
     "output_type": "display_data"
    }
   ],
   "source": [
    "i, i_prime, theta, theta_prime = sym.symbols(\"i, i', \\theta, \\\\theta'\")\n",
    "\n",
    "kv = 25 # rpm  per volt\n",
    "\n",
    "givens = \\\n",
    "{\n",
    "    Jm: 0.01, # rotational moment of inertia\n",
    "    Bm: 0.005, # Friction Coefficient\n",
    "    Lm: 0.001,\n",
    "    Rm: 15,\n",
    "    Km: 60./(2 * sym.pi * kv),\n",
    "}\n",
    "\n",
    "A = sym.Matrix([[0, 1, 0], [0, -Bm/Jm, Km/Jm], [0, -Km/Lm, -Rm/Lm]])\n",
    "B = sym.Matrix([[0], [0], [1/Lm]])\n",
    "\n",
    "x = sym.Matrix([[theta], [theta_prime], [i]])\n",
    "u = sym.Matrix([Vm])\n",
    "\n",
    "f = A*x + B*u\n",
    "\n",
    "lambda_f = sym.lambdify([t, (theta, theta_prime, i), Vm], f.subs(givens))\n",
    "lambda_f_ = lambda t,x,u : lambda_f(t, x, u).flatten()\n",
    "lambda_u = lambda t: 24 # constant voltage of 24 for all time.\n",
    "\n",
    "sim_time =2.5\n",
    "x0 = np.array([0, 0, 0]) # initial condition for the lambdified function\n",
    "\n",
    "t_, x_ = numerical_simulation(lambda_f_, sim_time, x0, ut=lambda_u)\n",
    "\n",
    "plt.plot(t_, x_[:,0], label=r\"$\\theta(t)$\")\n",
    "plt.plot(t_, x_[:, 2], label=r\"$i (t)$\")\n",
    "plt.plot(t_, x_[:, 1], label=r\"$\\dot{\\theta}(t)$\")\n",
    "plt.legend()\n",
    "plt.show()"
   ]
  },
  {
   "cell_type": "markdown",
   "metadata": {},
   "source": [
    "## Resources\n",
    "1. [SUBMS: Motor Modeling](http://subms.com/tutorials/motor_modeling)\n",
    "1. https://aleksandarhaber.com/modeling-a-dc-motor-and-matlab-simulation/\n",
    "1. [Motor Constants](https://en.wikipedia.org/wiki/Motor_constants)"
   ]
  },
  {
   "cell_type": "markdown",
   "metadata": {},
   "source": [
    "## Scratchwork"
   ]
  },
  {
   "cell_type": "code",
   "execution_count": 62,
   "metadata": {},
   "outputs": [
    {
     "data": {
      "text/latex": [
       "$\\displaystyle \\frac{B_{m} + J_{m} s}{B_{m} R_{m} + J_{m} L_{m} s^{2} + K_{m}^{2} + s \\left(B_{m} L_{m} + J_{m} R_{m}\\right)}$"
      ],
      "text/plain": [
       "                Bₘ + Jₘ⋅s                 \n",
       "──────────────────────────────────────────\n",
       "               2     2                    \n",
       "Bₘ⋅Rₘ + Jₘ⋅Lₘ⋅s  + Kₘ  + s⋅(Bₘ⋅Lₘ + Jₘ⋅Rₘ)"
      ]
     },
     "metadata": {},
     "output_type": "display_data"
    },
    {
     "data": {
      "text/latex": [
       "$\\displaystyle \\frac{\\left(e^{t} + \\sin{\\left(t \\right)} - \\cos{\\left(t \\right)}\\right) e^{- t} \\theta\\left(t\\right)}{2}$"
      ],
      "text/plain": [
       "⎛ t                  ⎞  -t     \n",
       "⎝ℯ  + sin(t) - cos(t)⎠⋅ℯ  ⋅θ(t)\n",
       "───────────────────────────────\n",
       "               2               "
      ]
     },
     "metadata": {},
     "output_type": "display_data"
    },
    {
     "data": {
      "image/png": "[encoded data removed]",
      "text/plain": [
       "<Figure size 432x288 with 1 Axes>"
      ]
     },
     "metadata": {
      "needs_background": "light"
     },
     "output_type": "display_data"
    }
   ],
   "source": [
    "s = sym.symbols('s')\n",
    "t = sym.symbols('t', real=True)\n",
    "Jm, Bm, Lm, Rm, Km, Vm = sym.symbols('J_m, B_m, L_m, R_m, K_m, V_m', real=True)\n",
    "\n",
    "givens = \\\n",
    "{\n",
    "    Jm: 1,#1.,\n",
    "    Bm: 1,#0.5,\n",
    "    Lm: 1, # Inv L transform breaks if we use floats.\n",
    "    Rm: 1,\n",
    "    Km: 1\n",
    "}\n",
    "\n",
    "\n",
    "# L(Output)/L(Input) = I(s)/V(s)\n",
    "Tf = (s * Jm + Bm)/(s**2 * Jm*Lm + s*(Jm*Rm + Bm*Lm) + (Bm*Rm + Km**2))\n",
    "display(Tf)\n",
    "\n",
    "# L(unit step)\n",
    "U = 1/s\n",
    "\n",
    "\n",
    "# Create Callable Function for Plotting.\n",
    "# Sympy needs help finding the heaviside function.\n",
    "modules = [{'Heaviside': lambda x: np.heaviside(x, 1)}, 'numpy']\n",
    "# Create a callable function from given numerical values.\n",
    "unit_step_response = sym.inverse_laplace_transform((Tf*U).subs(givens), s, t)\n",
    "\n",
    "display(unit_step_response)\n",
    "lambda_f = sym.lambdify(t, unit_step_response, modules=modules)\n",
    "\n",
    "time_series = np.arange(0, 15, 0.01)\n",
    "f_series = np.array([lambda_f(t) for t in time_series])\n",
    "\n",
    "plt.plot(time_series, f_series, label=r\"$i(t)$ from unit step $v(t) = 1$\")\n",
    "plt.xlabel(\"time ($t$)\")\n",
    "plt.legend()\n",
    "plt.show()"
   ]
  },
  {
   "cell_type": "code",
   "execution_count": 4,
   "metadata": {},
   "outputs": [
    {
     "data": {
      "text/latex": [
       "$\\displaystyle \\frac{s + 1}{s^{2} + 2 s + 2}$"
      ],
      "text/plain": [
       "   s + 1    \n",
       "────────────\n",
       " 2          \n",
       "s  + 2⋅s + 2"
      ]
     },
     "metadata": {},
     "output_type": "display_data"
    },
    {
     "data": {
      "image/png": "[encoded data removed]",
      "text/plain": [
       "<Figure size 432x288 with 1 Axes>"
      ]
     },
     "metadata": {
      "needs_background": "light"
     },
     "output_type": "display_data"
    }
   ],
   "source": [
    "display(Tf.subs(givens))\n",
    "impulse_response = sym.inverse_laplace_transform(Tf.subs(givens), s, t).evalf()\n",
    "\n",
    "lambda_f = sym.lambdify(t, impulse_response, modules=modules)\n",
    "time_series = np.arange(0, 15, 0.05)\n",
    "f_series = np.array([lambda_f(t) for t in time_series])\n",
    "\n",
    "plt.plot(time_series, f_series, label=r\"$i(t)$\")\n",
    "plt.xlabel(\"time ($t$)\")\n",
    "plt.legend()\n",
    "plt.show()"
   ]
  }
 ],
 "metadata": {
  "kernelspec": {
   "display_name": "Python 3",
   "language": "python",
   "name": "python3"
  },
  "language_info": {
   "codemirror_mode": {
    "name": "ipython",
    "version": 3
   },
   "file_extension": ".py",
   "mimetype": "text/x-python",
   "name": "python",
   "nbconvert_exporter": "python",
   "pygments_lexer": "ipython3",
   "version": "3.6.12"
  }
 },
 "nbformat": 4,
 "nbformat_minor": 4
}
