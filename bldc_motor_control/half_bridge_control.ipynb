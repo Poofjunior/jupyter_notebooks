{
 "cells": [
  {
   "cell_type": "markdown",
   "metadata": {},
   "source": [
    "Our FOC algorithm eventually generates three current values who's outputs sum to zero.\n",
    "\n",
    "We need to send these values to our half bridges to control the direction of current into the motor.\n",
    "\n",
    "All of our signals will be $120^{\\circ}$ out of phase with each other after the Parke/Clarke Transforms.\n",
    "\n",
    "A resulting current vector in ABC-space will look like this:\n",
    "$$\n",
    "i_{abc} =\n",
    "\\begin{bmatrix} 0 \\\\ 0.866 \\\\ -0.866 \\end{bmatrix}\n",
    "$$\n",
    "\n",
    "If the value is negative, we PWM the lower half bridge. If positive, we PWM the upper half bridge.\n",
    "\n",
    "Timingwise, we want to make sure that our on times are synchronized. In practice, the microcontroller might just do this for us automatically.\n"
   ]
  },
  {
   "cell_type": "code",
   "execution_count": null,
   "metadata": {},
   "outputs": [],
   "source": []
  }
 ],
 "metadata": {
  "kernelspec": {
   "display_name": "Python 3",
   "language": "python",
   "name": "python3"
  },
  "language_info": {
   "codemirror_mode": {
    "name": "ipython",
    "version": 3
   },
   "file_extension": ".py",
   "mimetype": "text/x-python",
   "name": "python",
   "nbconvert_exporter": "python",
   "pygments_lexer": "ipython3",
   "version": "3.6.12"
  }
 },
 "nbformat": 4,
 "nbformat_minor": 4
}
